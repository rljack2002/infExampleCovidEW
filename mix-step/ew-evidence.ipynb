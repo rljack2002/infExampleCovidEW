{
 "cells": [
  {
   "cell_type": "markdown",
   "metadata": {},
   "source": [
    "## Eng+Wales well-mixed model MCMC\n",
    "\n",
    "This is the evidence notebook.  There are various model variants as encoded by `expt_params_local` and `model_local`, which are shared by the notebooks in a given directory.\n",
    "\n",
    "On running, this notebook starts a new evidence computation, *or* picks up a list of existing samplers and continues running MCMC for each sampler.  This is controlled by `doTI` and `moreSamples`.\n",
    "\n",
    "**Note** : Depending on parameters and compute power, this may take days to run.\n",
    "\n",
    "Outputs of this notebook:\n",
    "* `ewMod-TI.pik` : result of MCMC computation at each quadrature site (very large file in general, not included in repo)\n",
    "\n",
    "**Note carefully** : internal details of .pik files that are created by this notebook and -- hence the option to continue existing computations -- may be affected by changes to pyross source code.  It is therefore useful to keep track of the specific commitID used for a given run.\n",
    "I am using git commit `be4eabc` ."
   ]
  },
  {
   "cell_type": "markdown",
   "metadata": {},
   "source": [
    "### start notebook"
   ]
  },
  {
   "cell_type": "markdown",
   "metadata": {},
   "source": [
    "(the following line is for efficient parallel processing)"
   ]
  },
  {
   "cell_type": "code",
   "execution_count": 1,
   "metadata": {},
   "outputs": [
    {
     "name": "stdout",
     "output_type": "stream",
     "text": [
      "env: OMP_NUM_THREADS=1\n"
     ]
    }
   ],
   "source": [
    "%env OMP_NUM_THREADS=1"
   ]
  },
  {
   "cell_type": "code",
   "execution_count": 2,
   "metadata": {},
   "outputs": [],
   "source": [
    "%matplotlib inline\n",
    "import numpy as np\n",
    "from matplotlib import pyplot as plt\n",
    "import pyross\n",
    "import time \n",
    "import pandas as pd\n",
    "import matplotlib.image as mpimg\n",
    "import pickle\n",
    "import os\n",
    "import pprint\n",
    "import emcee\n",
    "from scipy.stats import multivariate_normal, lognorm\n",
    "import dill\n",
    "import pathos.multiprocessing as pathos_mp\n",
    "import scipy.stats"
   ]
  },
  {
   "cell_type": "code",
   "execution_count": 3,
   "metadata": {},
   "outputs": [],
   "source": [
    "#from   ew_fns import *\n",
    "from   uk_v2a_fns import *  ## these are exactly the same functions as ew_fns, \n",
    "                            ## imported like this for compatibility with saved pik files (legacy)\n",
    "import expt_params_local\n",
    "import model_local"
   ]
  },
  {
   "cell_type": "code",
   "execution_count": 4,
   "metadata": {},
   "outputs": [],
   "source": [
    "#print(pyross.__file__)\n",
    "#print(os.getcwd())\n",
    "\n",
    "np.set_printoptions(precision=3) \n",
    "pltAuto = True\n",
    "plt.rcParams.update({'figure.autolayout': pltAuto})\n",
    "plt.rcParams.update({'font.size': 14})"
   ]
  },
  {
   "cell_type": "code",
   "execution_count": 5,
   "metadata": {},
   "outputs": [
    {
     "name": "stdout",
     "output_type": "stream",
     "text": [
      "{'careFile': '../data/CareHomes.csv',\n",
      " 'chooseCM': 'flat',\n",
      " 'dataFile': '../data/OnsData.csv',\n",
      " 'estimatorTol': 1e-08,\n",
      " 'exCare': True,\n",
      " 'forecastTime': 3,\n",
      " 'freeInitPriors': ['E', 'A', 'Is1', 'Is2', 'Is3'],\n",
      " 'infOptions': {'cma_population': 32,\n",
      "                'cma_processes': None,\n",
      "                'ftol': 5e-05,\n",
      "                'global_atol': 1.0,\n",
      "                'global_max_iter': 1500,\n",
      "                'local_max_iter': 400},\n",
      " 'inferBetaNotAi': True,\n",
      " 'numCohorts': 16,\n",
      " 'numCohortsPopData': 19,\n",
      " 'pikFileRoot': 'ewMod',\n",
      " 'popFile': '../data/EWAgeDistributedNew.csv',\n",
      " 'timeLast': 8,\n",
      " 'timeZero': 0}\n"
     ]
    }
   ],
   "source": [
    "verboseMod=False\n",
    "\n",
    "## time unit is one week\n",
    "daysPerWeek = 7.0\n",
    "\n",
    "doTI = False         ## run the MCMC for the thermodynamic integration\n",
    "moreSamples = False  ## run each chain for longer.\n",
    "\n",
    "## these are params that might be varied in different expts\n",
    "exptParams = expt_params_local.getLocalParams() \n",
    "\n",
    "pprint.pprint(exptParams)\n",
    "\n",
    "## this is used for filename handling throughout\n",
    "pikFileRoot = exptParams['pikFileRoot']\n",
    "\n",
    "## Configure the evidence computation:\n",
    "evidenceParams = {\n",
    "    'num_steps': 80,          ## The number of quadrature points for TI.\n",
    "    'step_pow': 2,            ## Distribution of quadrature points. The points are distributed \n",
    "                              ## as `np.linspace(0, 1, num=num_steps)[1:]**step_pow`.\n",
    "    'mcmc_steps': 3000,       ## Number of steps in the MCMC chains at each quadrature point.\n",
    "    'mcmc_population': 100,   ## The population of the MCMC ensemble sampler\n",
    "    'mcmc_discard': 1/3,      ## How much of the chain to throw away for burn-in.\n",
    "    'nprocesses': 8,          ## The number of processes used.\n",
    "    'add_samples': 1000,      ## if moreSamples==True, add this many samples to each chain.\n",
    "    'init_samples': 20000     ## Samples of the Laplace approx. Non-feasible samples get rejected.\n",
    "}"
   ]
  },
  {
   "cell_type": "markdown",
   "metadata": {},
   "source": [
    "## LOAD MODEL and RESULTS"
   ]
  },
  {
   "cell_type": "code",
   "execution_count": 6,
   "metadata": {},
   "outputs": [
    {
     "name": "stdout",
     "output_type": "stream",
     "text": [
      "** model\n",
      "\n",
      "{'A': {'infection': [], 'linear': [['E', 'gammaE'], ['A', '-gammaA']]},\n",
      " 'E': {'infection': [['A', 'beta'],\n",
      "                     ['Is1', 'beta'],\n",
      "                     ['Is2', 'betaLate'],\n",
      "                     ['Is3', 'betaLate']],\n",
      "       'linear': [['E', '-gammaE']]},\n",
      " 'Im': {'infection': [], 'linear': [['Is3', 'cfr*gammaIs3']]},\n",
      " 'Is1': {'infection': [],\n",
      "         'linear': [['A', 'gammaA'],\n",
      "                    ['Is1', '-alphabar*gammaIs1'],\n",
      "                    ['Is1', '-alpha*gammaIs1']]},\n",
      " 'Is2': {'infection': [],\n",
      "         'linear': [['Is1', 'alphabar*gammaIs1'], ['Is2', '-gammaIs2']]},\n",
      " 'Is3': {'infection': [],\n",
      "         'linear': [['Is2', 'gammaIs2'],\n",
      "                    ['Is3', '-cfrbar*gammaIs3'],\n",
      "                    ['Is3', '-cfr*gammaIs3']]},\n",
      " 'S': {'infection': [['A', '-beta'],\n",
      "                     ['Is1', '-beta'],\n",
      "                     ['Is2', '-betaLate'],\n",
      "                     ['Is3', '-betaLate']],\n",
      "       'linear': []},\n",
      " 'classes': ['S', 'E', 'A', 'Is1', 'Is2', 'Is3', 'Im']}\n",
      "\n",
      "** using getPriorsControl\n"
     ]
    }
   ],
   "source": [
    "loadModel = model_local.loadModel(exptParams,daysPerWeek,verboseMod) \n",
    "\n",
    "## should use a dictionary but...\n",
    "[ numCohorts, fi, N, Ni, model_spec, estimator, contactBasis, interventionFn,\n",
    "   modParams, priorsAll, initPriorsLinMode, obsDeath, fltrDeath, \n",
    "   simTime, deathCumulativeDat ] = loadModel"
   ]
  },
  {
   "cell_type": "markdown",
   "metadata": {},
   "source": [
    "### load inference result"
   ]
  },
  {
   "cell_type": "code",
   "execution_count": 7,
   "metadata": {},
   "outputs": [
    {
     "name": "stdout",
     "output_type": "stream",
     "text": [
      "Load inference result\n",
      "ipf ewMod-inf.pik\n",
      "ipf ewMod-hess.npy\n"
     ]
    }
   ],
   "source": [
    "print('Load inference result')\n",
    "    \n",
    "# load...\n",
    "ipFile = pikFileRoot + \"-inf.pik\"\n",
    "print('ipf',ipFile)\n",
    "with open(ipFile, 'rb') as f: \n",
    "    [infResult,elapsedInf] = pickle.load(f)\n",
    "\n",
    "ipFile = pikFileRoot + \"-hess.npy\"\n",
    "print('ipf',ipFile)\n",
    "with open(ipFile, 'rb') as f: \n",
    "    hessian = np.load(f)"
   ]
  },
  {
   "cell_type": "markdown",
   "metadata": {},
   "source": [
    "## EVIDENCE\n",
    "Compute the evidence using thermodynamic integraion. For an explanation of the method, see Appendix B.2 of the paper.\n",
    "\n",
    "#### Functions for computing the evidence"
   ]
  },
  {
   "cell_type": "code",
   "execution_count": 8,
   "metadata": {},
   "outputs": [],
   "source": [
    "logl, prior, ndim = pyross.evidence.latent_get_parameters(estimator, obsDeath, fltrDeath, simTime, \n",
    "                                    priorsAll, initPriorsLinMode, generator=contactBasis, \n",
    "                                    intervention_fun=interventionFn, tangent=False)\n",
    "class PrecisionGaussian:\n",
    "    \"\"\"Stable implementation of a multivariate Gaussian density that works with very \n",
    "    ill-conditioned precision matrices.\n",
    "    \"\"\"\n",
    "    def __init__(self, mean, precision_matrix):\n",
    "        self.pm = precision_matrix\n",
    "        self.mean = mean\n",
    "        self.dim = len(mean)\n",
    "        self.logdet = np.linalg.slogdet(self.pm)[1]\n",
    "        self.uninormal = scipy.stats.multivariate_normal(cov=np.eye(len(mean)))\n",
    "        \n",
    "        # Compute stable decompositon of covariance matrix\n",
    "        chol = scipy.linalg.cholesky(self.pm, lower=False)\n",
    "        self.L = scipy.linalg.lapack.dtrtri(chol, lower=0)[0]\n",
    "\n",
    "    def logpdf(self, x):\n",
    "        c = x - self.mean\n",
    "        return -1/2 * (self.dim * np.log(2*np.pi) - self.logdet) - 1/2 * c.T @ self.pm @ c\n",
    "        \n",
    "    def rvs(self, *args, **kwargs):\n",
    "        x = self.uninormal.rvs(*args, **kwargs)\n",
    "        return (self.L@x.T).T + self.mean\n",
    "\n",
    "laplace_post = PrecisionGaussian(infResult['flat_params'], hessian)\n",
    "\n",
    "num_steps = evidenceParams['num_steps']\n",
    "mcmc_steps = evidenceParams['mcmc_steps']\n",
    "npopulation = evidenceParams['mcmc_population']\n",
    "step_pow = evidenceParams['step_pow']\n",
    "burn_in = int(np.floor(evidenceParams['mcmc_discard'] * mcmc_steps))\n",
    "nprocesses = evidenceParams['nprocesses']\n",
    "\n",
    "second_schedule = np.linspace(0, 1, num=num_steps)[1:]**step_pow\n",
    "\n",
    "logp = lambda params: np.sum(prior.logpdf(params))\n",
    "\n",
    "def intermed_distr2(params, step):\n",
    "    return step*(logl(params) + logp(params)) +  (1-step)*laplace_post.logpdf(params)\n",
    "\n",
    "def run_ti_2(init_positions):\n",
    "    mcmc_pool = pathos_mp.ProcessingPool(nprocesses)\n",
    "\n",
    "    sampler_list = []\n",
    "\n",
    "    print(\"Start main iteration...\")\n",
    "    for step in second_schedule:\n",
    "        print(\"Step\", step)\n",
    "        sampler = emcee.EnsembleSampler(npopulation, ndim, intermed_distr2, pool=mcmc_pool, kwargs={'step':step})\n",
    "        sampler.run_mcmc(init_positions, mcmc_steps, progress=True)\n",
    "\n",
    "        sampler_list.append(sampler)\n",
    "        init_positions = sampler.get_last_sample().coords\n",
    "    \n",
    "    mcmc_pool.close()\n",
    "    mcmc_pool.join()\n",
    "    mcmc_pool.clear()\n",
    "\n",
    "    return sampler_list\n",
    "\n",
    "def get_likelihood_second(step_list, sampler_list, burn_in=0, thin=1, reduce=1):\n",
    "    logl_vals = []\n",
    "    logl_lpl_vals = []\n",
    "    for i in range(0, len(step_list)):\n",
    "        if i%10 == 0:\n",
    "            print(\"get_likelihood_second: {}/{}\".format(i, len(step_list)-1))\n",
    "\n",
    "        step = step_list[i]\n",
    "        chain = sampler_list[i].get_chain(discard=burn_in, flat=True, thin=thin)\n",
    "        chain_length = len(chain)\n",
    "        log_probs = sampler_list[i].get_log_prob(discard=burn_in, flat=True, thin=thin)\n",
    "\n",
    "        if reduce > 1:\n",
    "            reduced_length = int(np.floor(chain_length / reduce))\n",
    "            chain = chain[0:reduced_length]\n",
    "            log_probs = log_probs[0:reduced_length]\n",
    "\n",
    "        # Get likelihood values from log_probs\n",
    "        logpdf_laplace = np.array(list(map(laplace_post.logpdf, chain)))\n",
    "        logprior = np.array(list(map(logp, chain)))\n",
    "        llike_laplace = logpdf_laplace - logprior\n",
    "        llike = 1/step * (log_probs - (1-step)*logpdf_laplace) - logprior\n",
    "\n",
    "        logl_vals.append(llike)\n",
    "        logl_lpl_vals.append(llike_laplace)\n",
    "\n",
    "    return logl_vals, logl_lpl_vals\n",
    "\n",
    "def sample_truncated_laplace_approx(N):\n",
    "    \"\"\"Sample the Laplace approximation restricted to the support of the likelihood.\"\"\"\n",
    "    mcmc_pool = pathos_mp.ProcessingPool(nprocesses)\n",
    "\n",
    "    points = laplace_post.rvs(N)\n",
    "    values = np.array(list(mcmc_pool.map(logl, points)))\n",
    "    laplace_samples = points[values != -np.Inf, :]\n",
    "    logl_values = values[values != -np.Inf]    \n",
    "\n",
    "    mcmc_pool.close()\n",
    "    mcmc_pool.join()\n",
    "    mcmc_pool.clear()\n",
    "\n",
    "    return laplace_samples, logl_values"
   ]
  },
  {
   "cell_type": "markdown",
   "metadata": {},
   "source": [
    "#### Run the evidence computation"
   ]
  },
  {
   "cell_type": "code",
   "execution_count": 9,
   "metadata": {},
   "outputs": [],
   "source": [
    "# 1) Sample the truncated Laplace approximation. This is used as initial samples for the thermodynamic\n",
    "#    integration run, to compute \\E_{\\pi_0}[L - \\tilde L], and to estimate the normalisation factor of\n",
    "#    the truncated Laplace approximation.\n",
    "N = evidenceParams['init_samples']\n",
    "laplace_samples, logl_values = sample_truncated_laplace_approx(N)\n",
    "nr = len(laplace_samples)\n",
    "if nr < npopulation:\n",
    "    raise Error(\"Not enough samples.\")\n",
    "\n",
    "init_positions = laplace_samples[0:npopulation, :]\n",
    "\n",
    "trunclaplace_weight = nr / N\n",
    "trunclaplace_weight_std = np.sqrt(1/(N-1) * (nr * (1-trunclaplace_weight)**2 + (N-nr) * trunclaplace_weight**2)) \\\n",
    "                                / np.sqrt(N)\n",
    "\n",
    "weightcorr = np.log(trunclaplace_weight)\n",
    "weightcorr_err_1 = weightcorr - np.log(trunclaplace_weight + trunclaplace_weight_std)\n",
    "weightcorr_err_2 = weightcorr - np.log(trunclaplace_weight - trunclaplace_weight_std)\n",
    "weightcorr_err = np.max([weightcorr_err_1, weightcorr_err_2]);"
   ]
  },
  {
   "cell_type": "code",
   "execution_count": 10,
   "metadata": {},
   "outputs": [],
   "source": [
    "# 2) Run the main course of the thermodynamic integration, getting samples for \\pi_s for all scheduled s > 0.\n",
    "#    This will take a long time.\n",
    "if doTI:\n",
    "    ti_sampler_list = run_ti_2(init_positions)\n",
    "    opFile = pikFileRoot + \"-TI.pik\"\n",
    "    print('opf',opFile)\n",
    "    with open(opFile, 'wb') as f: \n",
    "        dill.dump([ti_sampler_list], f)\n",
    "\n",
    "opFile = pikFileRoot + \"-TI.pik\"\n",
    "with open(opFile, 'rb') as f: \n",
    "    ti_sampler_list = dill.load(f)[0];"
   ]
  },
  {
   "cell_type": "code",
   "execution_count": 11,
   "metadata": {},
   "outputs": [
    {
     "name": "stdout",
     "output_type": "stream",
     "text": [
      "get_likelihood_second: 0/78\n",
      "get_likelihood_second: 10/78\n",
      "get_likelihood_second: 20/78\n",
      "get_likelihood_second: 30/78\n",
      "get_likelihood_second: 40/78\n",
      "get_likelihood_second: 50/78\n",
      "get_likelihood_second: 60/78\n",
      "get_likelihood_second: 70/78\n"
     ]
    },
    {
     "data": {
      "text/plain": [
       "Text(0.5, 1.0, 'Stochastic error')"
      ]
     },
     "execution_count": 11,
     "metadata": {},
     "output_type": "execute_result"
    },
    {
     "data": {
      "image/png": "[encoded data removed]",
      "text/plain": [
       "<Figure size 792x360 with 2 Axes>"
      ]
     },
     "metadata": {
      "needs_background": "light"
     },
     "output_type": "display_data"
    }
   ],
   "source": [
    "# 3) Collect results (expected values & corresponding estimated standard deviations).\n",
    "# 3.1) Compute expectation for s=0:\n",
    "laplacepost_values = np.array(list(map(laplace_post.logpdf, laplace_samples)))\n",
    "prior_values = np.array(list(map(logp, laplace_samples)))\n",
    "laplacelogl_values = laplacepost_values - prior_values\n",
    "result_schedule = [0]\n",
    "result_values = [np.mean(logl_values - laplacelogl_values)]\n",
    "result_stds = [np.std(logl_values - laplacelogl_values) / np.sqrt(len(logl_values))]\n",
    "\n",
    "# 3.2) Compute expectations for s>0:\n",
    "logl_vals, logl_lpl_vals = get_likelihood_second(second_schedule, ti_sampler_list, burn_in=burn_in, thin=50)\n",
    "target_vals = [logl_vals[i] - logl_lpl_vals[i] for i in range(len(logl_vals))]\n",
    "n_val = len(target_vals)\n",
    "vals = np.mean([target_vals[i][-4000:] for i in range(n_val)], axis=1) # Take last 2000 samples.\n",
    "vals_var = np.var([target_vals[i][-4000:] for i in range(n_val)], axis=1)\n",
    "result_schedule = [*result_schedule, *second_schedule]\n",
    "result_values = [*result_values, *vals]\n",
    "# The chain is not long enough to estimate the autocorrelation time accurately, so we just assume \n",
    "# one effective sample per ensemble member.\n",
    "effective_sample_nr = 1\n",
    "\n",
    "result_vars = [result_stds[0]**2, *(vals_var / (effective_sample_nr * npopulation))]\n",
    "\n",
    "# Look at integrand.\n",
    "plt.figure(figsize=(11,5))\n",
    "plt.subplot(1,2,1)\n",
    "vals1 = np.mean([target_vals[i][-2000:] for i in range(n_val)], axis=1) # Take last 1000 samples.\n",
    "vals2 = np.mean([target_vals[i][-4000:-2000] for i in range(n_val)], axis=1)\n",
    "vals3 = np.mean([target_vals[i][-6000:-4000] for i in range(n_val)], axis=1)\n",
    "plt.plot(vals1, label=\"Samples -1000:-1\")\n",
    "plt.plot(vals2, label=\"Samples -2000:-1000\")\n",
    "plt.plot(vals3, label=\"Samples -3000:-2000\")\n",
    "plt.legend()\n",
    "\n",
    "plt.subplot(1,2,2)\n",
    "plt.plot(result_values)\n",
    "plt.fill_between(list(range(len(result_values))), np.array(result_values) - np.sqrt(result_vars), \n",
    "                 np.array(result_values)+np.sqrt(result_vars), alpha=0.3)\n",
    "plt.title(\"Stochastic error\")"
   ]
  },
  {
   "cell_type": "markdown",
   "metadata": {},
   "source": [
    "#### 4.1) Estimate the variance\n",
    "We assume that each element in `result_values` is an independent estimate $\\hat f'_i$ of $f'(s_i)$ with (estimated) variance $v_i$.\n",
    "We can compute an estimate of the variance of\n",
    "$$\n",
    "    F \\approx \\sum_{i=1}^{n} \\frac{1}{2} (s_i - s_{i-1}) * (f'_i + f'_{i-1}))\n",
    "        = \\frac{1}{2} \\left( (s_1 - s_0) f'_0 + \\sum_{i=1}^{n-1} (s_{i+1} - s_{i-1})f'_i + (s_n - s_{n-1}) f'_n \\right)\n",
    "$$\n",
    "as\n",
    "$$\n",
    "    \\text{var}\\, F = \\frac{1}{4} \\left( (s_1 - s_0)^2 v_0 + \\sum_{i=1}^{n-1} (s_{i+1} - s_{i-1})^2 v_i + (s_n - s_{n-1})^2 v_n \\right).\n",
    "$$\n",
    "Note, that this is only an estimate of the random error and does not take into account the quadrature error."
   ]
  },
  {
   "cell_type": "code",
   "execution_count": 12,
   "metadata": {},
   "outputs": [
    {
     "name": "stdout",
     "output_type": "stream",
     "text": [
      "Log-evidence = -321.68986219576357\n",
      "(Estimated standard deviation = 0.10662891794382139)\n"
     ]
    }
   ],
   "source": [
    "# 4) Compute integral using trapezoidal rule\n",
    "log_evidence = 0.0\n",
    "value_list = []\n",
    "for i in range(1, len(result_schedule)):\n",
    "    log_evidence += 1/2 * (result_schedule[i] - result_schedule[i-1]) * (result_values[i] + result_values[i-1])\n",
    "    value_list.append(log_evidence)\n",
    "\n",
    "variance = (result_schedule[1] - result_schedule[0])**2*result_vars[0] + (result_schedule[-1] - result_schedule[-2])**2*result_vars[-1]\n",
    "for i in range(1, len(result_schedule)-1):\n",
    "    variance += (result_schedule[i+1] - result_schedule[i-1])**2*result_vars[i]\n",
    "variance *= 1/4\n",
    "std_deviation = np.sqrt(variance)\n",
    "\n",
    "# Account for the normalisation of $\\tilde L$ in the estimate.\n",
    "log_evidence -= weightcorr\n",
    "std_deviation += weightcorr_err\n",
    "\n",
    "# Final result:\n",
    "print(\"Log-evidence = {}\".format(log_evidence))\n",
    "print(\"(Estimated standard deviation = {})\".format(std_deviation))"
   ]
  },
  {
   "cell_type": "code",
   "execution_count": 13,
   "metadata": {},
   "outputs": [],
   "source": [
    "# 5) Continue running the chains, if needed.\n",
    "if moreSamples:\n",
    "    additional_steps = evidenceParams['add_samples']\n",
    "\n",
    "    mcmc_pool = pathos_mp.ProcessingPool(nprocesses)\n",
    "    for sampler in ti_sampler_list:\n",
    "        sampler.pool = mcmc_pool\n",
    "        sampler.run_mcmc(None, additional_steps, progress=True)\n",
    "\n",
    "    mcmc_pool.close()\n",
    "    mcmc_pool.join()\n",
    "    mcmc_pool.clear()\n",
    "    \n",
    "    opFile = pikFileRoot + \"-TI.pik\"\n",
    "    print('opf',opFile)\n",
    "    with open(opFile, 'wb') as f: \n",
    "        dill.dump([ti_sampler_list], f)"
   ]
  },
  {
   "cell_type": "code",
   "execution_count": null,
   "metadata": {},
   "outputs": [],
   "source": []
  }
 ],
 "metadata": {
  "kernelspec": {
   "display_name": "Python 3",
   "language": "python",
   "name": "python3"
  },
  "language_info": {
   "codemirror_mode": {
    "name": "ipython",
    "version": 3
   },
   "file_extension": ".py",
   "mimetype": "text/x-python",
   "name": "python",
   "nbconvert_exporter": "python",
   "pygments_lexer": "ipython3",
   "version": "3.7.7"
  }
 },
 "nbformat": 4,
 "nbformat_minor": 4
}
