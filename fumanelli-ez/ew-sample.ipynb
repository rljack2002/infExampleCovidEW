{
 "cells": [
  {
   "cell_type": "markdown",
   "metadata": {},
   "source": [
    "## Eng+Wales example model \n",
    "\n",
    "This is the stochastic sampling notebook.  There are various model variants as encoded by `expt_params_local` and `model_local`, which are shared by the notebooks in a given directory.\n",
    "\n",
    "Outputs of this notebook:\n",
    "* `ew-sample-post.pik` : stochastic forecast trajectories with parameters from posterior\n",
    "* `ew-sample-map.pik` : similar with parameters from MAP (not used in manuscript)\n",
    "\n",
    "**Note** contrary to the case with step-like-NPI, it is safe to use force the algorithm to do tau-leaping here.  The reason is that the only low-occupancy compartments end up being those for deceased individuals in younger cohorts, and small numbers there do not cause a problem.  (One can run without tau-leaping to cross-check, but it takes a long time.)"
   ]
  },
  {
   "cell_type": "markdown",
   "metadata": {},
   "source": [
    "### start notebook"
   ]
  },
  {
   "cell_type": "markdown",
   "metadata": {},
   "source": [
    "(the following line is for efficient parallel processing)"
   ]
  },
  {
   "cell_type": "code",
   "execution_count": 1,
   "metadata": {},
   "outputs": [
    {
     "name": "stdout",
     "output_type": "stream",
     "text": [
      "env: OMP_NUM_THREADS=1\n"
     ]
    }
   ],
   "source": [
    "%env OMP_NUM_THREADS=1"
   ]
  },
  {
   "cell_type": "code",
   "execution_count": 2,
   "metadata": {},
   "outputs": [],
   "source": [
    "%matplotlib inline\n",
    "import numpy as np\n",
    "from matplotlib import pyplot as plt\n",
    "\n",
    "import matplotlib.cm\n",
    "\n",
    "import pyross\n",
    "import time \n",
    "import pandas as pd\n",
    "import matplotlib.image as mpimg\n",
    "import pickle\n",
    "import os\n",
    "import pprint\n",
    "import scipy.stats\n",
    "\n",
    "import multiprocessing "
   ]
  },
  {
   "cell_type": "code",
   "execution_count": 3,
   "metadata": {},
   "outputs": [],
   "source": [
    "#print(pyross.__file__)\n",
    "#print(os.getcwd())"
   ]
  },
  {
   "cell_type": "code",
   "execution_count": 4,
   "metadata": {},
   "outputs": [],
   "source": [
    "from ew_fns import *\n",
    "import expt_params_local\n",
    "import model_local"
   ]
  },
  {
   "cell_type": "code",
   "execution_count": 5,
   "metadata": {},
   "outputs": [],
   "source": [
    "## do the sampling, or load from file?\n",
    "doMAPForecast = True\n",
    "doPostForecast = True\n",
    "\n",
    "forceTauLeap = True  ## this disables the \"reversion to Gillespie\" for tau-leaping"
   ]
  },
  {
   "cell_type": "code",
   "execution_count": 6,
   "metadata": {},
   "outputs": [
    {
     "name": "stdout",
     "output_type": "stream",
     "text": [
      "{'careFile': '../data/CareHomes.csv',\n",
      " 'chooseCM': 'fumanelliEtAl',\n",
      " 'dataFile': '../data/OnsData.csv',\n",
      " 'estimatorTol': 1e-08,\n",
      " 'exCare': True,\n",
      " 'forecastTime': 3,\n",
      " 'freeInitPriors': ['E', 'A', 'Is1', 'Is2', 'Is3'],\n",
      " 'infOptions': {'cma_population': 32,\n",
      "                'cma_processes': None,\n",
      "                'ftol': 5e-05,\n",
      "                'global_atol': 1.0,\n",
      "                'global_max_iter': 1500,\n",
      "                'local_max_iter': 400},\n",
      " 'inferBetaNotAi': True,\n",
      " 'numCohorts': 16,\n",
      " 'numCohortsPopData': 19,\n",
      " 'pikFileRoot': 'ewMod',\n",
      " 'popFile': '../data/EWAgeDistributedNew.csv',\n",
      " 'timeLast': 8,\n",
      " 'timeZero': 0}\n"
     ]
    }
   ],
   "source": [
    "verboseMod=False    ## print ancillary info about the model?\n",
    "\n",
    "## time unit is one week\n",
    "daysPerWeek = 7.0\n",
    "\n",
    "## these are params that might be varied in different expts\n",
    "exptParams = expt_params_local.getLocalParams() \n",
    "pprint.pprint(exptParams)\n",
    "\n",
    "## this is used for filename handling throughout\n",
    "pikFileRoot = exptParams['pikFileRoot']"
   ]
  },
  {
   "cell_type": "code",
   "execution_count": 7,
   "metadata": {},
   "outputs": [],
   "source": [
    "np.set_printoptions(precision=3) \n",
    "pltAuto = True\n",
    "plt.rcParams.update({'figure.autolayout': pltAuto})\n",
    "plt.rcParams.update({'font.size': 14})"
   ]
  },
  {
   "cell_type": "markdown",
   "metadata": {},
   "source": [
    "## LOAD MODEL"
   ]
  },
  {
   "cell_type": "code",
   "execution_count": 8,
   "metadata": {},
   "outputs": [
    {
     "name": "stdout",
     "output_type": "stream",
     "text": [
      "** model\n",
      "\n",
      "{'A': {'infection': [], 'linear': [['E', 'gammaE'], ['A', '-gammaA']]},\n",
      " 'E': {'infection': [['A', 'beta'],\n",
      "                     ['Is1', 'beta'],\n",
      "                     ['Is2', 'betaLate'],\n",
      "                     ['Is3', 'betaLate']],\n",
      "       'linear': [['E', '-gammaE']]},\n",
      " 'Im': {'infection': [], 'linear': [['Is3', 'cfr*gammaIs3']]},\n",
      " 'Is1': {'infection': [],\n",
      "         'linear': [['A', 'gammaA'],\n",
      "                    ['Is1', '-alphabar*gammaIs1'],\n",
      "                    ['Is1', '-alpha*gammaIs1']]},\n",
      " 'Is2': {'infection': [],\n",
      "         'linear': [['Is1', 'alphabar*gammaIs1'], ['Is2', '-gammaIs2']]},\n",
      " 'Is3': {'infection': [],\n",
      "         'linear': [['Is2', 'gammaIs2'],\n",
      "                    ['Is3', '-cfrbar*gammaIs3'],\n",
      "                    ['Is3', '-cfr*gammaIs3']]},\n",
      " 'S': {'infection': [['A', '-beta'],\n",
      "                     ['Is1', '-beta'],\n",
      "                     ['Is2', '-betaLate'],\n",
      "                     ['Is3', '-betaLate']],\n",
      "       'linear': []},\n",
      " 'classes': ['S', 'E', 'A', 'Is1', 'Is2', 'Is3', 'Im']}\n",
      "\n",
      "** using getPriorsControlGMob\n"
     ]
    }
   ],
   "source": [
    "loadModel = model_local.loadModel(exptParams,daysPerWeek,verboseMod) \n",
    "\n",
    "## should use a dictionary but...\n",
    "[ numCohorts, fi, N, Ni, model_spec, estimator, contactBasis, interventionFn,\n",
    "   modParams, priorsAll, initPriorsLinMode, obsDeath, fltrDeath, \n",
    "   simTime, deathCumulativeDat ] = loadModel"
   ]
  },
  {
   "cell_type": "code",
   "execution_count": 9,
   "metadata": {},
   "outputs": [
    {
     "name": "stdout",
     "output_type": "stream",
     "text": [
      "ipf ewMod-inf.pik\n",
      "** read infResult\n"
     ]
    }
   ],
   "source": [
    "ipFile = pikFileRoot + \"-inf.pik\"\n",
    "print('ipf',ipFile)\n",
    "with open(ipFile, 'rb') as f: \n",
    "    [infResult,elapsedInf] = pickle.load(f)\n",
    "print('** read infResult') #,elapsedInf/60,'minute calc')"
   ]
  },
  {
   "cell_type": "code",
   "execution_count": 10,
   "metadata": {},
   "outputs": [
    {
     "name": "stdout",
     "output_type": "stream",
     "text": [
      "ipf ewMod-result_mcmc.pik\n",
      "** read 564 MCMC samples\n"
     ]
    }
   ],
   "source": [
    "ipFile = pikFileRoot + \"-result_mcmc.pik\"\n",
    "print('ipf',ipFile)\n",
    "with open(ipFile, 'rb') as f: \n",
    "    [result_mcmc] = pickle.load(f)\n",
    "\n",
    "print('** read',len(result_mcmc),'MCMC samples')"
   ]
  },
  {
   "cell_type": "code",
   "execution_count": 11,
   "metadata": {},
   "outputs": [],
   "source": [
    "## cohort labels\n",
    "cohRanges = [ [x,x+4] for x in range(0,75,5) ]\n",
    "#print(cohRanges)\n",
    "cohLabs = [\"{l:d}-{u:d}\".format(l=low,u=up) for [low,up] in cohRanges ]\n",
    "cohLabs.append(\"75+\")"
   ]
  },
  {
   "cell_type": "code",
   "execution_count": 12,
   "metadata": {},
   "outputs": [],
   "source": [
    "## function for compute of weekly deaths (same as np.gradient)\n",
    "def diffs(dd) : \n",
    "    op=[]  \n",
    "    for ii,di in enumerate(dd[1:]) : op.append( di-dd[ii] )\n",
    "    return op\n"
   ]
  },
  {
   "cell_type": "code",
   "execution_count": 13,
   "metadata": {},
   "outputs": [],
   "source": [
    "### run MAP model \n",
    "epiParamsMAP = infResult['params_dict']\n",
    "conParamsMAP = infResult['control_params_dict']\n",
    "x0_MAP = infResult['x0']\n",
    "\n",
    "CM_MAP = contactBasis.intervention_custom_temporal( interventionFn, \n",
    "                                                    **conParamsMAP)\n",
    "\n",
    "estimator.set_params(epiParamsMAP)\n",
    "estimator.set_contact_matrix(CM_MAP)\n",
    "trajMAP = estimator.integrate( x0_MAP, exptParams['timeZero'], simTime, simTime+1)"
   ]
  },
  {
   "cell_type": "markdown",
   "metadata": {},
   "source": [
    "### deterministic forecast with param uncertainty\n",
    "is dealt with by `-mcmcPost` notebook (not this notebook)\n",
    "\n",
    "#### note also : nowcast for latent compartments is done directly in the plotting script"
   ]
  },
  {
   "cell_type": "markdown",
   "metadata": {},
   "source": [
    "### stochastic forecast from MAP conditional distribution (uses van Kampen / CLT)"
   ]
  },
  {
   "cell_type": "code",
   "execution_count": 14,
   "metadata": {},
   "outputs": [
    {
     "name": "stdout",
     "output_type": "stream",
     "text": [
      "forecastTime 3\n",
      "example compartments at end of inf window:\n",
      " [3455194 3716354 3525839 3226270 3643242 3912097 3927154 3845824 3494825\n",
      " 3811895 3997624 3739887 3171278 2864275 2832889 4786151      69      41\n",
      "      76     262     391     864     596     683     909     997    1539\n",
      "    1836    1578    1464    1585    3260      59      34      51     261\n",
      "     335     729     519     547     801     742    1288    1587    1343\n",
      "    1209    1334    2710      98      52      90     280     457     912\n",
      "     674     794    1059     984    1758    2186    1896    1631    1905\n",
      "    3781     321     148     206     945    1464    3231    2430    2761\n",
      "    3929    4224    6626    8574    7629    7069    8299   16601     677\n",
      "     279     445    1885    2757    6116    4950    5390    7143    7949\n",
      "   11852   14635   13415   11984   13774   29626       1       0       1\n",
      "       8      16      55      58      95     177     322     598    1033\n",
      "    1456    1905    3085   14591]\n",
      "run 0 finished, of 40\n",
      "run 10 finished, of 40\n",
      "run 5 finished, of 40\n",
      "run 15 finished, of 40\n",
      "run 20 finished, of 40\n",
      "run 30 finished, of 40\n",
      "run 25 finished, of 40\n",
      "run 35 finished, of 40\n",
      "tt 0.19490061601003011 mins\n",
      "40 trajs\n",
      "opf ewMod-sample-map.pik\n"
     ]
    }
   ],
   "source": [
    "if doMAPForecast :\n",
    "\n",
    "    nStoch = 40\n",
    "    runStoch = True\n",
    "    trajStoch = []\n",
    "    if runStoch :\n",
    "\n",
    "        estimator.set_params(epiParamsMAP)\n",
    "        CM_MAP = contactBasis.intervention_custom_temporal( interventionFn, \n",
    "                                                            **conParamsMAP )\n",
    "        estimator.set_contact_matrix( CM_MAP )\n",
    "\n",
    "        sampleTime = simTime\n",
    "        \n",
    "        ## measure how long does it takes to do the nowcast\n",
    "        elapsedS = time.time() \n",
    "        samples = estimator.sample_endpoints(obsDeath, fltrDeath, sampleTime, infResult, \n",
    "                                             nStoch, CM_MAP)\n",
    "        elapsedS = time.time() - elapsedS\n",
    "        #print('IC sample',elapsedS,'secs')\n",
    "\n",
    "        ## this sorts out the intervention so that the sim starts at simTime\n",
    "        offT = simTime\n",
    "        def CM_offset(t) : return CM_MAP(t+offT)\n",
    "\n",
    "        detModel = pyross.deterministic.Spp(model_spec, paramMap(epiParamsMAP), numCohorts, Ni)\n",
    "        tt = exptParams['forecastTime']\n",
    "        sim = detModel.simulate(samples[0]*N, CM_offset, tt, tt+1) \n",
    "        trajDet=sim['X']\n",
    "\n",
    "        stochModel = pyross.stochastic.Spp(model_spec, paramMap(epiParamsMAP), numCohorts, Ni)\n",
    "\n",
    "        print('forecastTime',exptParams['forecastTime'])\n",
    "\n",
    "        if forceTauLeap : useNC = 0   ## always use tau-leaping (can cause problems if occupancies are low)\n",
    "        else :            useNC = 30\n",
    "        \n",
    "        ## measure how long does it takes to do the (stochastic) forecast\n",
    "        elapsedS = time.time() \n",
    "\n",
    "        ## PARALLEL\n",
    "        \n",
    "        def multiFunc(ss) :\n",
    "            ICint = np.array(samples[ss]*N).astype(int)\n",
    "            if ss == 0 : print('example compartments at end of inf window:\\n',ICint)\n",
    "            simStoch = stochModel.simulate(ICint, CM_offset, \n",
    "                                            # 1,2,  ## for debug, just run one time unit \n",
    "                                            exptParams['forecastTime'], exptParams['forecastTime']+1, \n",
    "                                            method='tau_leaping', nc=useNC)\n",
    "            if nStoch < 8 or ss % int(nStoch/8) == 0 :\n",
    "                 print('run {s:d} finished, of {n:d}'.format(s=ss,n=nStoch))\n",
    "\n",
    "            return simStoch['X']\n",
    "        \n",
    "        pool = multiprocessing.Pool()\n",
    "        trajStoch = pool.map( multiFunc, list(range(nStoch)) )\n",
    "        pool.close()  ## prevents further submission to pool\n",
    "        pool.join()   ## waits for pool to terminate (not necessary because map(...) is blocking)\n",
    "                        \n",
    "        elapsedS = time.time() - elapsedS\n",
    "        print('tt',elapsedS/60,'mins')\n",
    "        print(len(trajStoch),'trajs')\n",
    "\n",
    "        opFile = pikFileRoot + \"-sample-map.pik\"\n",
    "        print('opf',opFile)\n",
    "        with open(opFile, 'wb') as f: \n",
    "            pickle.dump([trajStoch],f)\n",
    "        \n",
    "else:\n",
    "    ipFile = pikFileRoot + \"-sample-map.pik\"\n",
    "    print('ipf',ipFile)\n",
    "    with open(ipFile, 'rb') as f: \n",
    "        [trajStoch] = pickle.load(f)"
   ]
  },
  {
   "cell_type": "markdown",
   "metadata": {},
   "source": [
    "#### plot results"
   ]
  },
  {
   "cell_type": "code",
   "execution_count": 15,
   "metadata": {},
   "outputs": [
    {
     "data": {
      "image/png": "[encoded data removed]",
      "text/plain": [
       "<Figure size 432x288 with 1 Axes>"
      ]
     },
     "metadata": {
      "needs_background": "light"
     },
     "output_type": "display_data"
    },
    {
     "data": {
      "image/png": "[encoded data removed]",
      "text/plain": [
       "<Figure size 792x345.6 with 2 Axes>"
      ]
     },
     "metadata": {
      "needs_background": "light"
     },
     "output_type": "display_data"
    }
   ],
   "source": [
    "runTime = simTime + exptParams['forecastTime']\n",
    "tVals = np.linspace(1,runTime,runTime)\n",
    "\n",
    "indClass = model_spec['classes'].index('Im')\n",
    "tValsMAP = np.linspace(1,simTime,simTime)\n",
    "totClass = N*np.sum(trajMAP[:,indClass*numCohorts:(indClass+1)*numCohorts],axis=1)\n",
    "\n",
    "totDeathObs = np.sum(deathCumulativeDat[:,:(runTime+1)],axis=0)\n",
    "\n",
    "tValsFore = np.linspace(1+simTime,runTime,exptParams['forecastTime'])\n",
    "tValsAll = np.append(tValsMAP,tValsFore)\n",
    "\n",
    "for dataStoch in trajStoch :\n",
    "        totClassStoch = np.sum(dataStoch[:,indClass*numCohorts:(indClass+1)*numCohorts],axis=1)\n",
    "        trajAll = np.append(totDeathObs[:simTime],totClassStoch)\n",
    "        plt.plot( tValsAll,diffs(trajAll),'-',lw=1,label=None,ms=4,color='C0',alpha=0.2)\n",
    "        if False : print(diffs(trajAll)[-3])\n",
    "\n",
    "plt.plot( tValsAll,diffs(np.sum(deathCumulativeDat[:,:(runTime+1)],axis=0)),'X',label='data',color='C1')\n",
    "\n",
    "plt.ylabel('weekly deaths (all)')\n",
    "plt.xlabel('time in weeks since 6-mar')\n",
    "plt.axvspan(1, simTime,alpha=0.2, color='silver',label='inf')\n",
    "plt.legend()\n",
    "#plt.savefig(figPath+'foreStochAll.png')\n",
    "\n",
    "plt.show() ; plt.close()\n",
    "\n",
    "# TWO panels (with age)\n",
    "fig,axs = plt.subplots(1,2,figsize=(11,4.8),sharey=True)\n",
    "plt.subplots_adjust(wspace=0.3)\n",
    "\n",
    "ax=axs[0]\n",
    "\n",
    "for dataStoch in trajStoch :\n",
    "        totClassStoch = dataStoch[:,-1+(indClass+1)*numCohorts]\n",
    "        trajAll = np.append(deathCumulativeDat[-1,:simTime],totClassStoch)\n",
    "        ax.plot( tValsAll,diffs(trajAll),'-',lw=1,label=None,ms=4,color='C0',alpha=0.2)\n",
    "        if False : print(diffs(trajAll)[-3])\n",
    "\n",
    "dObs = deathCumulativeDat[numCohorts-1,:runTime+1]\n",
    "ax.plot(tVals,diffs(dObs), 'o', label='data' , color='C1' )\n",
    "ax.set_ylabel('Eng-Wal weekly deaths age 75+')\n",
    "ax.set_xlabel('week (where 1 is week ending 13-Mar)')\n",
    "ax.axvspan(1, simTime,alpha=0.2, color='silver',\n",
    "           label='Used for inf')\n",
    "\n",
    "ax=axs[1]\n",
    "\n",
    "for dataStoch in trajStoch :\n",
    "        totClassStoch = np.sum(dataStoch[:,indClass*numCohorts:-1+(indClass+1)*numCohorts],axis=1)\n",
    "        trajAll = np.append(np.sum(deathCumulativeDat[:-1,:simTime],axis=0),totClassStoch)\n",
    "        plt.plot( tValsAll,diffs(trajAll),'-',lw=1,label=None,ms=4,color='C0',alpha=0.2)\n",
    "        if False : print(diffs(trajAll)[-3])\n",
    "\n",
    "dObs = np.sum(deathCumulativeDat[0:numCohorts-1,:runTime+1].transpose(), axis=1)\n",
    "ax.plot(tVals,diffs(dObs), 'o', label='data' ,color='C1' )\n",
    "            \n",
    "ax.set_ylabel('Eng-Wal weekly deaths age <75')\n",
    "ax.set_xlabel('week (where 1 is week ending 13-Mar)')\n",
    "ax.tick_params(labelleft=True)\n",
    "ax.axvspan(1, simTime,alpha=0.2, color='silver',\n",
    "           label='Used for inf')\n",
    "ax.legend()\n",
    "\n",
    "#plt.savefig('foreStochTwoAge.png')\n",
    "plt.show(fig) "
   ]
  },
  {
   "cell_type": "markdown",
   "metadata": {},
   "source": [
    "### stochastic forecast from full posterior conditional  distribution (uses van Kampen / CLT)"
   ]
  },
  {
   "cell_type": "code",
   "execution_count": 16,
   "metadata": {
    "scrolled": false
   },
   "outputs": [
    {
     "name": "stdout",
     "output_type": "stream",
     "text": [
      "runPost 0 finished, of 40\n",
      "runPost 10 finished, of 40\n",
      "runPost 15 finished, of 40\n",
      "runPost 5 finished, of 40\n",
      "runPost 20 finished, of 40\n",
      "runPost 30 finished, of 40\n",
      "runPost 25 finished, of 40\n",
      "runPost 35 finished, of 40\n",
      "elapsed 0.23347495794296264 mins\n",
      "opf ewMod-sample-post.pik\n"
     ]
    }
   ],
   "source": [
    "if doPostForecast :\n",
    "    \n",
    "    nStoch = 40\n",
    "    trajStochPost = []  \n",
    "    trajDetPost = []  \n",
    "    paramPost = []\n",
    "    if runStoch :\n",
    "\n",
    "        if forceTauLeap : useNC = 0   ## always use tau-leaping (can cause problems if occupancies are low)\n",
    "        else :            useNC = 30  ## default\n",
    "        \n",
    "        elapsedS = time.time() \n",
    "        \n",
    "        ### PARALLEL\n",
    "        def multiFuncPostSample(ii) :\n",
    "            ## this is the sample to be considered (taken from END of mcmc results)\n",
    "            rr = result_mcmc[-ii]\n",
    "            \n",
    "            estimator.set_params(rr['params_dict'])\n",
    "            CM_post = contactBasis.intervention_custom_temporal( interventionFn, \n",
    "                                                                **rr['control_params_dict'] )\n",
    "            estimator.set_contact_matrix( CM_post )\n",
    "\n",
    "            sampleTime = simTime\n",
    "            nSamp = 1  ## one endpoint sample per posterior sample\n",
    "            samplesPost = estimator.sample_endpoints(obsDeath, fltrDeath, \n",
    "                                                     sampleTime, rr, \n",
    "                                                     nSamp, CM_post)\n",
    "            \n",
    "            ## this sorts out the intervention so that the sim starts at simTime\n",
    "            offT = simTime\n",
    "            def CM_offset(t) : return CM_post(t+offT)\n",
    "\n",
    "            ss = 0 ## there is only one endpoint sample, this is the index for it\n",
    "\n",
    "            stochModel = pyross.stochastic.Spp(model_spec, paramMap(rr['params_dict']), numCohorts, Ni)\n",
    "\n",
    "            ICint = np.array(samplesPost[ss]*N).astype(int)\n",
    "            simStoch = stochModel.simulate(ICint, CM_offset, \n",
    "                                           exptParams['forecastTime'], \n",
    "                                           1+exptParams['forecastTime'], \n",
    "                                           method='tau_leaping',\n",
    "                                           nc=useNC)\n",
    "\n",
    "            if nStoch < 8 or ii % int(nStoch/8) == 0 :\n",
    "                 print('runPost {s:d} finished, of {n:d}'.format(s=ii,n=nStoch))\n",
    "\n",
    "            return simStoch['X'] \n",
    "\n",
    "        \n",
    "        pool = multiprocessing.Pool()\n",
    "        trajStochPost = pool.map( multiFuncPostSample, list(range(nStoch)) )\n",
    "        pool.close()  ## prevents further submission to pool\n",
    "        pool.join()   ## waits for pool to terminate (not necessary because map(...) is blocking)\n",
    "\n",
    "        elapsedS = time.time() - elapsedS\n",
    "        print('elapsed',elapsedS/60,'mins')\n",
    "        \n",
    "        opFile = pikFileRoot + \"-sample-post.pik\"\n",
    "        print('opf',opFile)\n",
    "        with open(opFile, 'wb') as f: \n",
    "            pickle.dump([trajStochPost],f)\n",
    "        \n",
    "else:\n",
    "    ipFile = pikFileRoot + \"-sample-post.pik\"\n",
    "    print('ipf',ipFile)\n",
    "    with open(ipFile, 'rb') as f: \n",
    "        [trajStochPost] = pickle.load(f)"
   ]
  },
  {
   "cell_type": "markdown",
   "metadata": {},
   "source": [
    "#### plot results"
   ]
  },
  {
   "cell_type": "code",
   "execution_count": 17,
   "metadata": {},
   "outputs": [
    {
     "data": {
      "image/png": "[encoded data removed]",
      "text/plain": [
       "<Figure size 432x288 with 1 Axes>"
      ]
     },
     "metadata": {
      "needs_background": "light"
     },
     "output_type": "display_data"
    }
   ],
   "source": [
    "indClass = model_spec['classes'].index('Im')\n",
    "tValsMAP = np.linspace(1,simTime,simTime)\n",
    "totClass = N*np.sum(trajMAP[:,indClass*numCohorts:(indClass+1)*numCohorts],axis=1)\n",
    "\n",
    "totDeathObs = np.sum(deathCumulativeDat[:,:(runTime+1)],axis=0)\n",
    "\n",
    "tValsFore = np.linspace(1+simTime,runTime,exptParams['forecastTime'])\n",
    "tValsAll = np.append(tValsMAP,tValsFore)\n",
    "\n",
    "for dataStoch in trajStochPost :\n",
    "        totClassStoch = np.sum(dataStoch[:,indClass*numCohorts:(indClass+1)*numCohorts],axis=1)\n",
    "        trajAll = np.append(totDeathObs[:simTime],totClassStoch)\n",
    "        plt.plot( tValsAll,diffs(trajAll),'-',lw=1,label=None,ms=4,color='C0',alpha=0.2)\n",
    "        if False : print(diffs(trajAll)[-3])\n",
    "\n",
    "plt.plot( tValsAll,diffs(np.sum(deathCumulativeDat[:,:(runTime+1)],axis=0)),'X',label='data',color='C1')\n",
    "\n",
    "plt.ylabel('weekly deaths (all)')\n",
    "plt.xlabel('time in weeks since 6-mar')\n",
    "plt.axvspan(1, simTime,alpha=0.2, color='silver',label='inf')\n",
    "plt.legend()\n",
    "#plt.savefig(figPath+'foreStochAll.png')\n",
    "\n",
    "plt.show() ; plt.close()"
   ]
  },
  {
   "cell_type": "code",
   "execution_count": null,
   "metadata": {},
   "outputs": [],
   "source": []
  },
  {
   "cell_type": "code",
   "execution_count": null,
   "metadata": {},
   "outputs": [],
   "source": []
  }
 ],
 "metadata": {
  "kernelspec": {
   "display_name": "Python 3",
   "language": "python",
   "name": "python3"
  },
  "language_info": {
   "codemirror_mode": {
    "name": "ipython",
    "version": 3
   },
   "file_extension": ".py",
   "mimetype": "text/x-python",
   "name": "python",
   "nbconvert_exporter": "python",
   "pygments_lexer": "ipython3",
   "version": "3.8.3"
  }
 },
 "nbformat": 4,
 "nbformat_minor": 4
}
