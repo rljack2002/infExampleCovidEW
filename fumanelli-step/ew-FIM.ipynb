{
 "cells": [
  {
   "cell_type": "markdown",
   "metadata": {},
   "source": [
    "## Eng+Wales well-mixed example model \n",
    "\n",
    "This is the Fisher Information Matrix (FIM) notebook.  There are various model variants as encoded by `expt_params_local` and `model_local`, which are shared by the notebooks in a given directory.\n",
    "\n",
    "Outputs of this notebook:\n",
    "* `ewMod-FIM.npy` : FIM (matrix as numpy array)\n",
    "* `ewMod-FIM-evec.pik` : eigenvector corresponding to soft mode\n",
    "\n",
    "**Note :** there are two soft modes of the FIM with very small eigenvalues, these are almost degenerate.  As a result, the computed eigenvector can differ according to libraries used and settings including OMP_NUM_THREADS.  The eigenvector that we save (and later plot) represents a soft mode, but it should be borne in mind that it is not unique.\n"
   ]
  },
  {
   "cell_type": "markdown",
   "metadata": {},
   "source": [
    "### Start notebook\n",
    "(the following line is for efficient parallel processing)"
   ]
  },
  {
   "cell_type": "code",
   "execution_count": 1,
   "metadata": {},
   "outputs": [
    {
     "name": "stdout",
     "output_type": "stream",
     "text": [
      "env: OMP_NUM_THREADS=1\n"
     ]
    }
   ],
   "source": [
    "%env OMP_NUM_THREADS=1"
   ]
  },
  {
   "cell_type": "code",
   "execution_count": 2,
   "metadata": {},
   "outputs": [],
   "source": [
    "%matplotlib inline\n",
    "import numpy as np\n",
    "from matplotlib import pyplot as plt\n",
    "import pyross\n",
    "import time \n",
    "import pandas as pd\n",
    "import matplotlib.image as mpimg\n",
    "import pickle\n",
    "import os\n",
    "import pprint\n",
    "\n",
    "from scipy.linalg import eigh\n",
    "from scipy.misc import derivative\n",
    "\n",
    "import scipy.stats\n",
    "import matplotlib.ticker\n",
    "\n",
    "plt.rcParams.update({'font.size': 20})\n",
    "plt.rcParams['font.family'] = 'serif'\n",
    "plt.rc('text', usetex=True)"
   ]
  },
  {
   "cell_type": "code",
   "execution_count": 3,
   "metadata": {},
   "outputs": [],
   "source": [
    "#print(pyross.__file__)\n",
    "#print(os.getcwd())"
   ]
  },
  {
   "cell_type": "code",
   "execution_count": 4,
   "metadata": {},
   "outputs": [],
   "source": [
    "from ew_fns import *\n",
    "import expt_params_local\n",
    "import model_local"
   ]
  },
  {
   "cell_type": "markdown",
   "metadata": {},
   "source": [
    "### switches etc"
   ]
  },
  {
   "cell_type": "code",
   "execution_count": 5,
   "metadata": {},
   "outputs": [
    {
     "name": "stdout",
     "output_type": "stream",
     "text": [
      "{'careFile': '../data/CareHomes.csv',\n",
      " 'chooseCM': 'fumanelliEtAl',\n",
      " 'dataFile': '../data/OnsData.csv',\n",
      " 'estimatorTol': 1e-08,\n",
      " 'exCare': True,\n",
      " 'forecastTime': 3,\n",
      " 'freeInitPriors': ['E', 'A', 'Is1', 'Is2', 'Is3'],\n",
      " 'infOptions': {'cma_population': 32,\n",
      "                'cma_processes': None,\n",
      "                'ftol': 5e-05,\n",
      "                'global_atol': 1.0,\n",
      "                'global_max_iter': 1500,\n",
      "                'local_max_iter': 400},\n",
      " 'inferBetaNotAi': True,\n",
      " 'numCohorts': 16,\n",
      " 'numCohortsPopData': 19,\n",
      " 'pikFileRoot': 'ewMod',\n",
      " 'popFile': '../data/EWAgeDistributedNew.csv',\n",
      " 'timeLast': 8,\n",
      " 'timeZero': 0}\n"
     ]
    }
   ],
   "source": [
    "verboseMod=False    ## print ancillary info about the model?\n",
    "\n",
    "## Calculate things, or load from files ?\n",
    "## NOTE : if we do inference and not Hessian then info in saved files can get out of sync...\n",
    "doFIM = False\n",
    "diagFIM = False\n",
    "\n",
    "## time unit is one week\n",
    "daysPerWeek = 7.0\n",
    "\n",
    "## these are params that might be varied in different expts\n",
    "exptParams = expt_params_local.getLocalParams() \n",
    "\n",
    "pprint.pprint(exptParams)\n",
    "\n",
    "## this is used for filename handling throughout\n",
    "pikFileRoot = exptParams['pikFileRoot']"
   ]
  },
  {
   "cell_type": "markdown",
   "metadata": {},
   "source": [
    "### convenient settings"
   ]
  },
  {
   "cell_type": "code",
   "execution_count": 6,
   "metadata": {},
   "outputs": [],
   "source": [
    "np.set_printoptions(precision=3) \n",
    "pltAuto = True\n",
    "plt.rcParams.update({'figure.autolayout': pltAuto})\n",
    "plt.rcParams.update({'font.size': 14})"
   ]
  },
  {
   "cell_type": "markdown",
   "metadata": {},
   "source": [
    "## LOAD MODEL"
   ]
  },
  {
   "cell_type": "code",
   "execution_count": 7,
   "metadata": {
    "scrolled": false
   },
   "outputs": [
    {
     "name": "stdout",
     "output_type": "stream",
     "text": [
      "** model\n",
      "\n",
      "{'A': {'infection': [], 'linear': [['E', 'gammaE'], ['A', '-gammaA']]},\n",
      " 'E': {'infection': [['A', 'beta'],\n",
      "                     ['Is1', 'beta'],\n",
      "                     ['Is2', 'betaLate'],\n",
      "                     ['Is3', 'betaLate']],\n",
      "       'linear': [['E', '-gammaE']]},\n",
      " 'Im': {'infection': [], 'linear': [['Is3', 'cfr*gammaIs3']]},\n",
      " 'Is1': {'infection': [],\n",
      "         'linear': [['A', 'gammaA'],\n",
      "                    ['Is1', '-alphabar*gammaIs1'],\n",
      "                    ['Is1', '-alpha*gammaIs1']]},\n",
      " 'Is2': {'infection': [],\n",
      "         'linear': [['Is1', 'alphabar*gammaIs1'], ['Is2', '-gammaIs2']]},\n",
      " 'Is3': {'infection': [],\n",
      "         'linear': [['Is2', 'gammaIs2'],\n",
      "                    ['Is3', '-cfrbar*gammaIs3'],\n",
      "                    ['Is3', '-cfr*gammaIs3']]},\n",
      " 'S': {'infection': [['A', '-beta'],\n",
      "                     ['Is1', '-beta'],\n",
      "                     ['Is2', '-betaLate'],\n",
      "                     ['Is3', '-betaLate']],\n",
      "       'linear': []},\n",
      " 'classes': ['S', 'E', 'A', 'Is1', 'Is2', 'Is3', 'Im']}\n",
      "\n",
      "** using getPriorsControl\n"
     ]
    }
   ],
   "source": [
    "loadModel = model_local.loadModel(exptParams,daysPerWeek,verboseMod) \n",
    "\n",
    "## this is a bit of a hack but...\n",
    "[ numCohorts, fi, N, Ni, model_spec, estimator, contactBasis, interventionFn,\n",
    "   modParams, priorsAll, initPriorsLinMode, obsDeath, fltrDeath, \n",
    "   simTime, deathCumulativeDat ] = loadModel"
   ]
  },
  {
   "cell_type": "markdown",
   "metadata": {},
   "source": [
    "### Load inference result"
   ]
  },
  {
   "cell_type": "code",
   "execution_count": 8,
   "metadata": {},
   "outputs": [
    {
     "name": "stdout",
     "output_type": "stream",
     "text": [
      "ipf ewMod-inf.pik\n",
      "** read infResult 8.487578407923381 minute calc\n"
     ]
    }
   ],
   "source": [
    "ipFile = pikFileRoot + \"-inf.pik\"\n",
    "print('ipf',ipFile)\n",
    "with open(ipFile, 'rb') as f: \n",
    "    [infResult,elapsedInf] = pickle.load(f)\n",
    "print('** read infResult',elapsedInf/60,'minute calc')"
   ]
  },
  {
   "cell_type": "markdown",
   "metadata": {},
   "source": [
    "### Compute/load the Fisher information matrix"
   ]
  },
  {
   "cell_type": "code",
   "execution_count": 9,
   "metadata": {},
   "outputs": [
    {
     "name": "stdout",
     "output_type": "stream",
     "text": [
      "Load FIM\n",
      "ipf ewMod-FIM.npy\n"
     ]
    }
   ],
   "source": [
    "if doFIM:\n",
    "    \n",
    "    ## this eps amounts to a perturbation of approx 1% on each param\n",
    "    xx = infResult['flat_params']\n",
    "    fx = abs(infResult['log_likelihood'])\n",
    "    eps = 100 * xx * (np.spacing(fx)/fx)**(0.25) \n",
    "    \n",
    "    print('**params\\n',infResult['flat_params'])\n",
    "    print('** rel eps\\n',eps/infResult['flat_params']) \n",
    "    \n",
    "    epiParamsMAP = infResult['params_dict']\n",
    "    conParamsMAP = infResult['control_params_dict']\n",
    "    \n",
    "    CM_MAP = contactBasis.intervention_custom_temporal( interventionFn, \n",
    "                                                        **conParamsMAP)\n",
    "    estimator.set_params(epiParamsMAP)\n",
    "    estimator.set_contact_matrix(CM_MAP)\n",
    "        \n",
    "    start = time.time()\n",
    "    FIM = estimator.latent_FIM(obs=obsDeath,\n",
    "                              fltr=fltrDeath,\n",
    "                              Tf=simTime,\n",
    "                              generator=contactBasis,\n",
    "                              infer_result=infResult,\n",
    "                              intervention_fun=interventionFn,\n",
    "                              tangent=False,\n",
    "                              eps=eps,\n",
    "                              inter_steps=100)\n",
    "    end = time.time()\n",
    "    print('time',(end-start)/60,'mins')\n",
    "    \n",
    "    opFile = pikFileRoot + \"-FIM.npy\"\n",
    "    print('opf',opFile)\n",
    "    with open(opFile, 'wb') as f: \n",
    "        np.save(f,FIM)\n",
    "\n",
    "else : \n",
    "    print('Load FIM')\n",
    "\n",
    "# reload in all cases (even if we just saved it)\n",
    "ipFile = pikFileRoot + \"-FIM.npy\"\n",
    "try:\n",
    "    print('ipf',ipFile)\n",
    "    with open(ipFile, 'rb') as f: \n",
    "        FIM = np.load(f)\n",
    "except (OSError, IOError) : \n",
    "    print('... error loading FIM')\n",
    "    FIM = None"
   ]
  },
  {
   "cell_type": "markdown",
   "metadata": {},
   "source": [
    "### diagonalise the FIM (or load the spectrum)"
   ]
  },
  {
   "cell_type": "code",
   "execution_count": 10,
   "metadata": {},
   "outputs": [
    {
     "name": "stdout",
     "output_type": "stream",
     "text": [
      "loading FIM spectrum\n",
      "evals [-9.346e-07  3.751e-05  1.550e-03  1.768e-02  5.274e-02  1.165e+00\n",
      "  2.155e+00  2.302e+00  2.486e+00  2.907e+00  6.238e+00  8.166e+00\n",
      "  1.473e+01  2.067e+01  2.858e+01  4.253e+01  5.294e+01  7.575e+01\n",
      "  8.178e+01  1.021e+02  1.502e+02  1.806e+02  1.824e+02  2.021e+02\n",
      "  2.468e+02  2.584e+02  2.989e+02  3.432e+02  5.523e+02  6.447e+02\n",
      "  8.188e+02  8.350e+02  9.553e+02  1.281e+03  1.770e+03  2.459e+03\n",
      "  3.061e+03  3.752e+03  6.681e+03  2.505e+04  3.229e+05  2.956e+07\n",
      "  7.002e+08  6.525e+09  4.178e+11  8.709e+11]\n"
     ]
    }
   ],
   "source": [
    "## inferred parameter indices\n",
    "No = np.arange(0, len(infResult['flat_params']))\n",
    "\n",
    "evals,evecs = 0,0\n",
    "\n",
    "if diagFIM :\n",
    "    print('diagonalising FIM')\n",
    "    evals, evecs = scipy.linalg.eigh(FIM)\n",
    "\n",
    "    opFile = pikFileRoot + \"-FIM-evec.pik\"\n",
    "    print('opf',opFile)\n",
    "    with open(opFile, 'wb') as f:\n",
    "        pickle.dump([evals, evecs],f)\n",
    "\n",
    "else :\n",
    "    print('loading FIM spectrum')\n",
    "\n",
    "    ipFile = pikFileRoot + \"-FIM-evec.pik\"\n",
    "    with open(ipFile, 'rb') as f:\n",
    "        [evals, evecs] = pickle.load(f)\n",
    "\n",
    "print('evals',evals)\n",
    "\n",
    "## sensitivities\n",
    "sens = np.sqrt(np.diagonal(FIM))*infResult['flat_params']"
   ]
  },
  {
   "cell_type": "markdown",
   "metadata": {},
   "source": [
    "## at this point all computation is done\n",
    "\n",
    "there follow some example plots which are similar to those in the manuscript"
   ]
  },
  {
   "cell_type": "markdown",
   "metadata": {},
   "source": [
    "### Plots: Sensitivity"
   ]
  },
  {
   "cell_type": "code",
   "execution_count": 11,
   "metadata": {},
   "outputs": [],
   "source": [
    "## indices\n",
    "betas_ = np.s_[0:16]\n",
    "#betaL_ = 16\n",
    "gammas_ = np.s_[16:22] # include betaLate with gammas\n",
    "aF_ = np.s_[22:38]\n",
    "lock_ = np.s_[38:40]\n",
    "inits_ = np.s_[40:46]"
   ]
  },
  {
   "cell_type": "code",
   "execution_count": 12,
   "metadata": {},
   "outputs": [],
   "source": [
    "## cohort age ranges\n",
    "cohRanges = [ [x,x+4] for x in range(0,75,5) ]\n",
    "cohLabs = [\"{l:d}-{u:d}\".format(l=low,u=up) for [low,up] in cohRanges ]\n",
    "cohLabs.append(\"75+\")"
   ]
  },
  {
   "cell_type": "code",
   "execution_count": 13,
   "metadata": {},
   "outputs": [
    {
     "data": {
      "image/png": "[encoded data removed]",
      "text/plain": [
       "<Figure size 612x432 with 4 Axes>"
      ]
     },
     "metadata": {
      "needs_background": "light"
     },
     "output_type": "display_data"
    }
   ],
   "source": [
    "fig,axs = plt.subplots(2,2,figsize=(8.5,6),sharey=True,gridspec_kw={'width_ratios': [1,1.5]})\n",
    "plt.subplots_adjust(wspace=0.35,right=0.97,left=0.11,bottom=0.13,top=0.97,hspace=0.5)\n",
    "\n",
    "plotLabs_g = ['$\\\\nu_{L}$',\n",
    "            '$\\\\gamma_{\\\\rm E}$','$\\\\gamma_{\\\\rm A}$',\n",
    "            '$\\\\gamma_{1}$','$\\\\gamma_{2}$','$\\\\gamma_{3}$']\n",
    "\n",
    "row,col = 0,0\n",
    "ax = axs[row,col]\n",
    "\n",
    "ax.set_yscale('log')\n",
    "ax.set_ylim(0.2, 2000)\n",
    "ax.yaxis.set_major_locator(matplotlib.ticker.LogLocator(base=10.0, numticks=15))\n",
    "bigNum = 12  ## arbitrary big number\n",
    "tickSetup = matplotlib.ticker.LogLocator(base=10.0,\n",
    "                                         subs=[0.1*(1+x) for x in range(9)],\n",
    "                                         numticks=bigNum)\n",
    "ax.yaxis.set_minor_locator(tickSetup)\n",
    "ax.yaxis.set_minor_formatter(matplotlib.ticker.NullFormatter())\n",
    "\n",
    "ax.set_xticks(No[gammas_])\n",
    "ax.set_xticklabels(plotLabs_g)\n",
    "ax.set_ylabel('sensitivity $s_a$', labelpad=6)\n",
    "ax.plot(No[gammas_], sens[gammas_], 'X', c='blue', markersize=7)\n",
    "ax.axhline(y=1e2, color='red', alpha=0.3, lw=2)\n",
    "\n",
    "row,col = 1,0\n",
    "ax = axs[row,col]\n",
    "\n",
    "plotLabs = ['$t_{\\\\rm lock}$',\n",
    "           '$W_{\\\\rm lock}$']\n",
    "\n",
    "ax.set_xticks(No[lock_])\n",
    "ax.set_xticklabels(plotLabs)\n",
    "ax.set_ylabel('sensitivity $s_a$', labelpad=6)\n",
    "\n",
    "ax.plot(No[lock_], sens[lock_], 'X', c='blue', markersize=7)\n",
    "ax.axhline(y=1e2, color='red', alpha=0.3, lw=2)\n",
    "\n",
    "ax.set_xlim(No[lock_][0]-0.5,No[lock_][-1]+0.5)\n",
    "\n",
    "\n",
    "## sensitivity for betas\n",
    "yesTick = [0,5,10,15] # [0,4,8,12,15]\n",
    "\n",
    "row,col = 0,1\n",
    "ax = axs[row,col]\n",
    "\n",
    "ax.set_ylabel('sensitivity for $\\\\beta_{i}$', labelpad=6)\n",
    "ax.tick_params(labelleft=True)\n",
    "\n",
    "ax.set_xticks(yesTick)\n",
    "ax.set_xticklabels([cohLabs[ii] for ii in yesTick])\n",
    "\n",
    "ax.plot(No[betas_], sens[betas_], 'X', c='blue', markersize=5)\n",
    "ax.axhline(y=1e2, color='red', alpha=0.3, lw=2)\n",
    "#ax.ylim(bottom=1, top=300)\n",
    "ax.set_xlabel('age')\n",
    "#plt.show(); plt.close()\n",
    "\n",
    "## sensitivity for aF\n",
    "\n",
    "row,col = 1,1\n",
    "ax = axs[row,col]\n",
    "\n",
    "ax.set_ylabel('sensitivity for $a^{\\\\rm F}_{i}$', labelpad=6)\n",
    "ax.tick_params(labelleft=True)\n",
    "ax.tick_params(labelbottom=True)\n",
    "\n",
    "aTick = [ yy+No[aF_][0] for yy in yesTick ]\n",
    "\n",
    "ax.set_xticks(aTick)\n",
    "ax.set_xticklabels([cohLabs[ii] for ii in yesTick])\n",
    "\n",
    "ax.plot(No[aF_], sens[aF_], 'X', c='blue', markersize=5)\n",
    "ax.axhline(y=1e2, color='red', alpha=0.3, lw=2)\n",
    "#ax.ylim(bottom=1, top=300)\n",
    "ax.set_xlabel('age')\n",
    "plt.show(); plt.close()"
   ]
  },
  {
   "cell_type": "code",
   "execution_count": 14,
   "metadata": {},
   "outputs": [
    {
     "data": {
      "image/png": "[encoded data removed]",
      "text/plain": [
       "<Figure size 360x273.6 with 1 Axes>"
      ]
     },
     "metadata": {
      "needs_background": "light"
     },
     "output_type": "display_data"
    }
   ],
   "source": [
    "## sensitivity for inits\n",
    "fig, ax = plt.subplots(1,1,figsize=(5, 3.8))\n",
    "plt.subplots_adjust(left=0.18,right=0.97,bottom=0.15,top=0.97)\n",
    "\n",
    "plotLabs = ['$\\\\kappa$',\n",
    "            '${\\\\rm E}_{0}$',\n",
    "            '${\\\\rm A}_{0}$',\n",
    "            '${\\\\rm I}_{0}^{(1)}$',\n",
    "            '${\\\\rm I}_{0}^{(2)}$',\n",
    "            '${\\\\rm I}_{0}^{(3)}$']\n",
    "\n",
    "ax.set_xticks(No[inits_])\n",
    "ax.set_xticklabels(plotLabs)\n",
    "ax.set_ylabel('sensitivity $s_a$',labelpad=6)\n",
    "\n",
    "ax.semilogy(No[inits_], sens[inits_], 'X', c='blue', markersize=7)\n",
    "ax.set_ylim(top=300.)\n",
    "#ax.set_xlim(37.5, 40.5)\n",
    "ax.axhline(y=1e2, color='red', alpha=0.3, lw=2)\n",
    "plt.show(); plt.close()"
   ]
  },
  {
   "cell_type": "markdown",
   "metadata": {},
   "source": [
    "### Plots: Soft mode"
   ]
  },
  {
   "cell_type": "code",
   "execution_count": 15,
   "metadata": {},
   "outputs": [
    {
     "name": "stdout",
     "output_type": "stream",
     "text": [
      "[21 20 19 18 28 25]\n"
     ]
    },
    {
     "data": {
      "image/png": "[encoded data removed]",
      "text/plain": [
       "<Figure size 324x244.8 with 1 Axes>"
      ]
     },
     "metadata": {
      "needs_background": "light"
     },
     "output_type": "display_data"
    }
   ],
   "source": [
    "## second eigenvalue\n",
    "maps = infResult['flat_params']\n",
    "\n",
    "evec_soft = evecs[:,1].copy()/maps\n",
    "\n",
    "#print('maps\\n',maps)\n",
    "#print('evals\\n',evals)\n",
    "#print('evec\\n',evec_soft)\n",
    "\n",
    "sortOrder = np.flip( np.argsort(np.abs(evec_soft[:40])) )\n",
    "print(sortOrder[:6])\n",
    "\n",
    "softgA   = evec_soft[18]\n",
    "softgI1  = evec_soft[19]\n",
    "softgI2  = evec_soft[20]\n",
    "softgI3  = evec_soft[21]\n",
    "softaF   = evec_soft[28] ## for age 30-34\n",
    "\n",
    "params_soft = [softgA,softgI1,softgI2,softgI3,softaF]\n",
    "\n",
    "fig, ax = plt.subplots(1,1,figsize=(4.5,3.4))\n",
    "plt.subplots_adjust(left=0.27,bottom=0.13,top=0.97,right=0.97)\n",
    "\n",
    "plotLabs_soft = ['$\\\\gamma_{\\\\rm A}$',\n",
    "                '$\\\\gamma_{1}$','$\\\\gamma_{2}$',\n",
    "                '$\\\\gamma_{3}$',\n",
    "                '$a^{F}_{30-34}$']\n",
    "\n",
    "ax.set_xticks([1,2,3,4,5])\n",
    "ax.set_xticklabels(plotLabs_soft)\n",
    "\n",
    "#ax.set_yticks([])\n",
    "ax.set_ylabel('$v^{\\\\rm FIM}_a$')\n",
    "\n",
    "for ii,pp in enumerate(params_soft) :\n",
    "    ax.arrow( ii+1,0,0,pp,width=0.2*np.abs(pp),\n",
    "             head_width=1.3*np.abs(pp), length_includes_head=True,\n",
    "             head_length=0.3*np.abs(pp), ec='C0' )\n",
    "\n",
    "\n",
    "ax.axhline(y=0, color='grey', alpha=0.3, lw=2, linestyle='dotted')\n",
    "\n",
    "maxPos = np.max(params_soft)\n",
    "maxModNeg = -np.min(params_soft)\n",
    "maxMod = np.maximum(maxPos,maxModNeg)\n",
    "maxMod *= 1.2\n",
    "\n",
    "ax.set_xlim(0.5,len(params_soft)+0.5)\n",
    "ax.set_ylim(-maxMod,maxMod)\n",
    "plt.show(); plt.close()"
   ]
  },
  {
   "cell_type": "code",
   "execution_count": null,
   "metadata": {},
   "outputs": [],
   "source": []
  }
 ],
 "metadata": {
  "kernelspec": {
   "display_name": "Python 3",
   "language": "python",
   "name": "python3"
  },
  "language_info": {
   "codemirror_mode": {
    "name": "ipython",
    "version": 3
   },
   "file_extension": ".py",
   "mimetype": "text/x-python",
   "name": "python",
   "nbconvert_exporter": "python",
   "pygments_lexer": "ipython3",
   "version": "3.8.3"
  }
 },
 "nbformat": 4,
 "nbformat_minor": 4
}
